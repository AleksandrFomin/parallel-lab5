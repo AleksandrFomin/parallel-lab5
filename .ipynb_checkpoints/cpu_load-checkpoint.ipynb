{
 "cells": [
  {
   "cell_type": "code",
   "execution_count": 1,
   "metadata": {},
   "outputs": [],
   "source": [
    "import pandas as pd\n",
    "import plotly.graph_objects as go"
   ]
  },
  {
   "cell_type": "code",
   "execution_count": 3,
   "metadata": {},
   "outputs": [
    {
     "data": {
      "application/vnd.plotly.v1+json": {
       "config": {
        "plotlyServerURL": "https://plot.ly"
       },
       "data": [
        {
         "name": "cpu0",
         "type": "scatter",
         "x": [
          "2020-11-09T22:20:01.051053",
          "2020-11-09T22:20:01.255674",
          "2020-11-09T22:20:01.460386",
          "2020-11-09T22:20:01.664942",
          "2020-11-09T22:20:01.868497",
          "2020-11-09T22:20:02.070885",
          "2020-11-09T22:20:02.273351",
          "2020-11-09T22:20:02.475738",
          "2020-11-09T22:20:02.678269",
          "2020-11-09T22:20:02.880776",
          "2020-11-09T22:20:03.083394",
          "2020-11-09T22:20:03.285908",
          "2020-11-09T22:20:03.488370",
          "2020-11-09T22:20:03.690839",
          "2020-11-09T22:20:03.894051",
          "2020-11-09T22:20:04.098554",
          "2020-11-09T22:20:04.303149",
          "2020-11-09T22:20:04.507796"
         ],
         "y": [
          9.523809523809518,
          4.761904761904773,
          19.04761904761905,
          10,
          57.89473684210527,
          100,
          100,
          59.090909090909086,
          23.80952380952381,
          10.526315789473685,
          20,
          10.526315789473685,
          20,
          15,
          5.555555555555557,
          4.761904761904773,
          4.761904761904773,
          5
         ]
        },
        {
         "name": "cpu1",
         "type": "scatter",
         "x": [
          "2020-11-09T22:20:01.051053",
          "2020-11-09T22:20:01.255674",
          "2020-11-09T22:20:01.460386",
          "2020-11-09T22:20:01.664942",
          "2020-11-09T22:20:01.868497",
          "2020-11-09T22:20:02.070885",
          "2020-11-09T22:20:02.273351",
          "2020-11-09T22:20:02.475738",
          "2020-11-09T22:20:02.678269",
          "2020-11-09T22:20:02.880776",
          "2020-11-09T22:20:03.083394",
          "2020-11-09T22:20:03.285908",
          "2020-11-09T22:20:03.488370",
          "2020-11-09T22:20:03.690839",
          "2020-11-09T22:20:03.894051",
          "2020-11-09T22:20:04.098554",
          "2020-11-09T22:20:04.303149",
          "2020-11-09T22:20:04.507796"
         ],
         "y": [
          0,
          4.761904761904773,
          33.33333333333334,
          0,
          19.04761904761905,
          15,
          23.80952380952381,
          55,
          63.15789473684211,
          26.31578947368422,
          19.04761904761905,
          10.526315789473685,
          20,
          15.789473684210535,
          10,
          4.761904761904773,
          4.761904761904773,
          9.523809523809518
         ]
        },
        {
         "name": "cpu2",
         "type": "scatter",
         "x": [
          "2020-11-09T22:20:01.051053",
          "2020-11-09T22:20:01.255674",
          "2020-11-09T22:20:01.460386",
          "2020-11-09T22:20:01.664942",
          "2020-11-09T22:20:01.868497",
          "2020-11-09T22:20:02.070885",
          "2020-11-09T22:20:02.273351",
          "2020-11-09T22:20:02.475738",
          "2020-11-09T22:20:02.678269",
          "2020-11-09T22:20:02.880776",
          "2020-11-09T22:20:03.083394",
          "2020-11-09T22:20:03.285908",
          "2020-11-09T22:20:03.488370",
          "2020-11-09T22:20:03.690839",
          "2020-11-09T22:20:03.894051",
          "2020-11-09T22:20:04.098554",
          "2020-11-09T22:20:04.303149",
          "2020-11-09T22:20:04.507796"
         ],
         "y": [
          9.090909090909093,
          0,
          0,
          13.63636363636364,
          30,
          15,
          20,
          20,
          55,
          100,
          100,
          100,
          100,
          95.45454545454545,
          60,
          4.761904761904773,
          0,
          0
         ]
        },
        {
         "name": "cpu3",
         "type": "scatter",
         "x": [
          "2020-11-09T22:20:01.051053",
          "2020-11-09T22:20:01.255674",
          "2020-11-09T22:20:01.460386",
          "2020-11-09T22:20:01.664942",
          "2020-11-09T22:20:01.868497",
          "2020-11-09T22:20:02.070885",
          "2020-11-09T22:20:02.273351",
          "2020-11-09T22:20:02.475738",
          "2020-11-09T22:20:02.678269",
          "2020-11-09T22:20:02.880776",
          "2020-11-09T22:20:03.083394",
          "2020-11-09T22:20:03.285908",
          "2020-11-09T22:20:03.488370",
          "2020-11-09T22:20:03.690839",
          "2020-11-09T22:20:03.894051",
          "2020-11-09T22:20:04.098554",
          "2020-11-09T22:20:04.303149",
          "2020-11-09T22:20:04.507796"
         ],
         "y": [
          17.391304347826093,
          4.761904761904773,
          5.26315789473685,
          0,
          18.181818181818173,
          15.789473684210535,
          19.04761904761905,
          23.80952380952381,
          20,
          21.05263157894737,
          15,
          15.789473684210535,
          15,
          15.789473684210535,
          15,
          0,
          5,
          0
         ]
        }
       ],
       "layout": {
        "template": {
         "data": {
          "bar": [
           {
            "error_x": {
             "color": "#2a3f5f"
            },
            "error_y": {
             "color": "#2a3f5f"
            },
            "marker": {
             "line": {
              "color": "#E5ECF6",
              "width": 0.5
             }
            },
            "type": "bar"
           }
          ],
          "barpolar": [
           {
            "marker": {
             "line": {
              "color": "#E5ECF6",
              "width": 0.5
             }
            },
            "type": "barpolar"
           }
          ],
          "carpet": [
           {
            "aaxis": {
             "endlinecolor": "#2a3f5f",
             "gridcolor": "white",
             "linecolor": "white",
             "minorgridcolor": "white",
             "startlinecolor": "#2a3f5f"
            },
            "baxis": {
             "endlinecolor": "#2a3f5f",
             "gridcolor": "white",
             "linecolor": "white",
             "minorgridcolor": "white",
             "startlinecolor": "#2a3f5f"
            },
            "type": "carpet"
           }
          ],
          "choropleth": [
           {
            "colorbar": {
             "outlinewidth": 0,
             "ticks": ""
            },
            "type": "choropleth"
           }
          ],
          "contour": [
           {
            "colorbar": {
             "outlinewidth": 0,
             "ticks": ""
            },
            "colorscale": [
             [
              0,
              "#0d0887"
             ],
             [
              0.1111111111111111,
              "#46039f"
             ],
             [
              0.2222222222222222,
              "#7201a8"
             ],
             [
              0.3333333333333333,
              "#9c179e"
             ],
             [
              0.4444444444444444,
              "#bd3786"
             ],
             [
              0.5555555555555556,
              "#d8576b"
             ],
             [
              0.6666666666666666,
              "#ed7953"
             ],
             [
              0.7777777777777778,
              "#fb9f3a"
             ],
             [
              0.8888888888888888,
              "#fdca26"
             ],
             [
              1,
              "#f0f921"
             ]
            ],
            "type": "contour"
           }
          ],
          "contourcarpet": [
           {
            "colorbar": {
             "outlinewidth": 0,
             "ticks": ""
            },
            "type": "contourcarpet"
           }
          ],
          "heatmap": [
           {
            "colorbar": {
             "outlinewidth": 0,
             "ticks": ""
            },
            "colorscale": [
             [
              0,
              "#0d0887"
             ],
             [
              0.1111111111111111,
              "#46039f"
             ],
             [
              0.2222222222222222,
              "#7201a8"
             ],
             [
              0.3333333333333333,
              "#9c179e"
             ],
             [
              0.4444444444444444,
              "#bd3786"
             ],
             [
              0.5555555555555556,
              "#d8576b"
             ],
             [
              0.6666666666666666,
              "#ed7953"
             ],
             [
              0.7777777777777778,
              "#fb9f3a"
             ],
             [
              0.8888888888888888,
              "#fdca26"
             ],
             [
              1,
              "#f0f921"
             ]
            ],
            "type": "heatmap"
           }
          ],
          "heatmapgl": [
           {
            "colorbar": {
             "outlinewidth": 0,
             "ticks": ""
            },
            "colorscale": [
             [
              0,
              "#0d0887"
             ],
             [
              0.1111111111111111,
              "#46039f"
             ],
             [
              0.2222222222222222,
              "#7201a8"
             ],
             [
              0.3333333333333333,
              "#9c179e"
             ],
             [
              0.4444444444444444,
              "#bd3786"
             ],
             [
              0.5555555555555556,
              "#d8576b"
             ],
             [
              0.6666666666666666,
              "#ed7953"
             ],
             [
              0.7777777777777778,
              "#fb9f3a"
             ],
             [
              0.8888888888888888,
              "#fdca26"
             ],
             [
              1,
              "#f0f921"
             ]
            ],
            "type": "heatmapgl"
           }
          ],
          "histogram": [
           {
            "marker": {
             "colorbar": {
              "outlinewidth": 0,
              "ticks": ""
             }
            },
            "type": "histogram"
           }
          ],
          "histogram2d": [
           {
            "colorbar": {
             "outlinewidth": 0,
             "ticks": ""
            },
            "colorscale": [
             [
              0,
              "#0d0887"
             ],
             [
              0.1111111111111111,
              "#46039f"
             ],
             [
              0.2222222222222222,
              "#7201a8"
             ],
             [
              0.3333333333333333,
              "#9c179e"
             ],
             [
              0.4444444444444444,
              "#bd3786"
             ],
             [
              0.5555555555555556,
              "#d8576b"
             ],
             [
              0.6666666666666666,
              "#ed7953"
             ],
             [
              0.7777777777777778,
              "#fb9f3a"
             ],
             [
              0.8888888888888888,
              "#fdca26"
             ],
             [
              1,
              "#f0f921"
             ]
            ],
            "type": "histogram2d"
           }
          ],
          "histogram2dcontour": [
           {
            "colorbar": {
             "outlinewidth": 0,
             "ticks": ""
            },
            "colorscale": [
             [
              0,
              "#0d0887"
             ],
             [
              0.1111111111111111,
              "#46039f"
             ],
             [
              0.2222222222222222,
              "#7201a8"
             ],
             [
              0.3333333333333333,
              "#9c179e"
             ],
             [
              0.4444444444444444,
              "#bd3786"
             ],
             [
              0.5555555555555556,
              "#d8576b"
             ],
             [
              0.6666666666666666,
              "#ed7953"
             ],
             [
              0.7777777777777778,
              "#fb9f3a"
             ],
             [
              0.8888888888888888,
              "#fdca26"
             ],
             [
              1,
              "#f0f921"
             ]
            ],
            "type": "histogram2dcontour"
           }
          ],
          "mesh3d": [
           {
            "colorbar": {
             "outlinewidth": 0,
             "ticks": ""
            },
            "type": "mesh3d"
           }
          ],
          "parcoords": [
           {
            "line": {
             "colorbar": {
              "outlinewidth": 0,
              "ticks": ""
             }
            },
            "type": "parcoords"
           }
          ],
          "pie": [
           {
            "automargin": true,
            "type": "pie"
           }
          ],
          "scatter": [
           {
            "marker": {
             "colorbar": {
              "outlinewidth": 0,
              "ticks": ""
             }
            },
            "type": "scatter"
           }
          ],
          "scatter3d": [
           {
            "line": {
             "colorbar": {
              "outlinewidth": 0,
              "ticks": ""
             }
            },
            "marker": {
             "colorbar": {
              "outlinewidth": 0,
              "ticks": ""
             }
            },
            "type": "scatter3d"
           }
          ],
          "scattercarpet": [
           {
            "marker": {
             "colorbar": {
              "outlinewidth": 0,
              "ticks": ""
             }
            },
            "type": "scattercarpet"
           }
          ],
          "scattergeo": [
           {
            "marker": {
             "colorbar": {
              "outlinewidth": 0,
              "ticks": ""
             }
            },
            "type": "scattergeo"
           }
          ],
          "scattergl": [
           {
            "marker": {
             "colorbar": {
              "outlinewidth": 0,
              "ticks": ""
             }
            },
            "type": "scattergl"
           }
          ],
          "scattermapbox": [
           {
            "marker": {
             "colorbar": {
              "outlinewidth": 0,
              "ticks": ""
             }
            },
            "type": "scattermapbox"
           }
          ],
          "scatterpolar": [
           {
            "marker": {
             "colorbar": {
              "outlinewidth": 0,
              "ticks": ""
             }
            },
            "type": "scatterpolar"
           }
          ],
          "scatterpolargl": [
           {
            "marker": {
             "colorbar": {
              "outlinewidth": 0,
              "ticks": ""
             }
            },
            "type": "scatterpolargl"
           }
          ],
          "scatterternary": [
           {
            "marker": {
             "colorbar": {
              "outlinewidth": 0,
              "ticks": ""
             }
            },
            "type": "scatterternary"
           }
          ],
          "surface": [
           {
            "colorbar": {
             "outlinewidth": 0,
             "ticks": ""
            },
            "colorscale": [
             [
              0,
              "#0d0887"
             ],
             [
              0.1111111111111111,
              "#46039f"
             ],
             [
              0.2222222222222222,
              "#7201a8"
             ],
             [
              0.3333333333333333,
              "#9c179e"
             ],
             [
              0.4444444444444444,
              "#bd3786"
             ],
             [
              0.5555555555555556,
              "#d8576b"
             ],
             [
              0.6666666666666666,
              "#ed7953"
             ],
             [
              0.7777777777777778,
              "#fb9f3a"
             ],
             [
              0.8888888888888888,
              "#fdca26"
             ],
             [
              1,
              "#f0f921"
             ]
            ],
            "type": "surface"
           }
          ],
          "table": [
           {
            "cells": {
             "fill": {
              "color": "#EBF0F8"
             },
             "line": {
              "color": "white"
             }
            },
            "header": {
             "fill": {
              "color": "#C8D4E3"
             },
             "line": {
              "color": "white"
             }
            },
            "type": "table"
           }
          ]
         },
         "layout": {
          "annotationdefaults": {
           "arrowcolor": "#2a3f5f",
           "arrowhead": 0,
           "arrowwidth": 1
          },
          "coloraxis": {
           "colorbar": {
            "outlinewidth": 0,
            "ticks": ""
           }
          },
          "colorscale": {
           "diverging": [
            [
             0,
             "#8e0152"
            ],
            [
             0.1,
             "#c51b7d"
            ],
            [
             0.2,
             "#de77ae"
            ],
            [
             0.3,
             "#f1b6da"
            ],
            [
             0.4,
             "#fde0ef"
            ],
            [
             0.5,
             "#f7f7f7"
            ],
            [
             0.6,
             "#e6f5d0"
            ],
            [
             0.7,
             "#b8e186"
            ],
            [
             0.8,
             "#7fbc41"
            ],
            [
             0.9,
             "#4d9221"
            ],
            [
             1,
             "#276419"
            ]
           ],
           "sequential": [
            [
             0,
             "#0d0887"
            ],
            [
             0.1111111111111111,
             "#46039f"
            ],
            [
             0.2222222222222222,
             "#7201a8"
            ],
            [
             0.3333333333333333,
             "#9c179e"
            ],
            [
             0.4444444444444444,
             "#bd3786"
            ],
            [
             0.5555555555555556,
             "#d8576b"
            ],
            [
             0.6666666666666666,
             "#ed7953"
            ],
            [
             0.7777777777777778,
             "#fb9f3a"
            ],
            [
             0.8888888888888888,
             "#fdca26"
            ],
            [
             1,
             "#f0f921"
            ]
           ],
           "sequentialminus": [
            [
             0,
             "#0d0887"
            ],
            [
             0.1111111111111111,
             "#46039f"
            ],
            [
             0.2222222222222222,
             "#7201a8"
            ],
            [
             0.3333333333333333,
             "#9c179e"
            ],
            [
             0.4444444444444444,
             "#bd3786"
            ],
            [
             0.5555555555555556,
             "#d8576b"
            ],
            [
             0.6666666666666666,
             "#ed7953"
            ],
            [
             0.7777777777777778,
             "#fb9f3a"
            ],
            [
             0.8888888888888888,
             "#fdca26"
            ],
            [
             1,
             "#f0f921"
            ]
           ]
          },
          "colorway": [
           "#636efa",
           "#EF553B",
           "#00cc96",
           "#ab63fa",
           "#FFA15A",
           "#19d3f3",
           "#FF6692",
           "#B6E880",
           "#FF97FF",
           "#FECB52"
          ],
          "font": {
           "color": "#2a3f5f"
          },
          "geo": {
           "bgcolor": "white",
           "lakecolor": "white",
           "landcolor": "#E5ECF6",
           "showlakes": true,
           "showland": true,
           "subunitcolor": "white"
          },
          "hoverlabel": {
           "align": "left"
          },
          "hovermode": "closest",
          "mapbox": {
           "style": "light"
          },
          "paper_bgcolor": "white",
          "plot_bgcolor": "#E5ECF6",
          "polar": {
           "angularaxis": {
            "gridcolor": "white",
            "linecolor": "white",
            "ticks": ""
           },
           "bgcolor": "#E5ECF6",
           "radialaxis": {
            "gridcolor": "white",
            "linecolor": "white",
            "ticks": ""
           }
          },
          "scene": {
           "xaxis": {
            "backgroundcolor": "#E5ECF6",
            "gridcolor": "white",
            "gridwidth": 2,
            "linecolor": "white",
            "showbackground": true,
            "ticks": "",
            "zerolinecolor": "white"
           },
           "yaxis": {
            "backgroundcolor": "#E5ECF6",
            "gridcolor": "white",
            "gridwidth": 2,
            "linecolor": "white",
            "showbackground": true,
            "ticks": "",
            "zerolinecolor": "white"
           },
           "zaxis": {
            "backgroundcolor": "#E5ECF6",
            "gridcolor": "white",
            "gridwidth": 2,
            "linecolor": "white",
            "showbackground": true,
            "ticks": "",
            "zerolinecolor": "white"
           }
          },
          "shapedefaults": {
           "line": {
            "color": "#2a3f5f"
           }
          },
          "ternary": {
           "aaxis": {
            "gridcolor": "white",
            "linecolor": "white",
            "ticks": ""
           },
           "baxis": {
            "gridcolor": "white",
            "linecolor": "white",
            "ticks": ""
           },
           "bgcolor": "#E5ECF6",
           "caxis": {
            "gridcolor": "white",
            "linecolor": "white",
            "ticks": ""
           }
          },
          "title": {
           "x": 0.05
          },
          "xaxis": {
           "automargin": true,
           "gridcolor": "white",
           "linecolor": "white",
           "ticks": "",
           "title": {
            "standoff": 15
           },
           "zerolinecolor": "white",
           "zerolinewidth": 2
          },
          "yaxis": {
           "automargin": true,
           "gridcolor": "white",
           "linecolor": "white",
           "ticks": "",
           "title": {
            "standoff": 15
           },
           "zerolinecolor": "white",
           "zerolinewidth": 2
          }
         }
        },
        "title": {
         "text": "CPU load"
        },
        "xaxis": {
         "title": {
          "text": "Time"
         }
        },
        "yaxis": {
         "title": {
          "text": "%"
         }
        }
       }
      },
      "text/html": [
       "<div>                            <div id=\"64f9220c-2791-446a-8f67-f620f2aa16ce\" class=\"plotly-graph-div\" style=\"height:525px; width:100%;\"></div>            <script type=\"text/javascript\">                require([\"plotly\"], function(Plotly) {                    window.PLOTLYENV=window.PLOTLYENV || {};                                    if (document.getElementById(\"64f9220c-2791-446a-8f67-f620f2aa16ce\")) {                    Plotly.newPlot(                        \"64f9220c-2791-446a-8f67-f620f2aa16ce\",                        [{\"name\": \"cpu0\", \"type\": \"scatter\", \"x\": [\"2020-11-09T22:20:01.051053\", \"2020-11-09T22:20:01.255674\", \"2020-11-09T22:20:01.460386\", \"2020-11-09T22:20:01.664942\", \"2020-11-09T22:20:01.868497\", \"2020-11-09T22:20:02.070885\", \"2020-11-09T22:20:02.273351\", \"2020-11-09T22:20:02.475738\", \"2020-11-09T22:20:02.678269\", \"2020-11-09T22:20:02.880776\", \"2020-11-09T22:20:03.083394\", \"2020-11-09T22:20:03.285908\", \"2020-11-09T22:20:03.488370\", \"2020-11-09T22:20:03.690839\", \"2020-11-09T22:20:03.894051\", \"2020-11-09T22:20:04.098554\", \"2020-11-09T22:20:04.303149\", \"2020-11-09T22:20:04.507796\"], \"y\": [9.523809523809518, 4.761904761904773, 19.04761904761905, 10.0, 57.89473684210527, 100.0, 100.0, 59.090909090909086, 23.80952380952381, 10.526315789473685, 20.0, 10.526315789473685, 20.0, 15.0, 5.555555555555557, 4.761904761904773, 4.761904761904773, 5.0]}, {\"name\": \"cpu1\", \"type\": \"scatter\", \"x\": [\"2020-11-09T22:20:01.051053\", \"2020-11-09T22:20:01.255674\", \"2020-11-09T22:20:01.460386\", \"2020-11-09T22:20:01.664942\", \"2020-11-09T22:20:01.868497\", \"2020-11-09T22:20:02.070885\", \"2020-11-09T22:20:02.273351\", \"2020-11-09T22:20:02.475738\", \"2020-11-09T22:20:02.678269\", \"2020-11-09T22:20:02.880776\", \"2020-11-09T22:20:03.083394\", \"2020-11-09T22:20:03.285908\", \"2020-11-09T22:20:03.488370\", \"2020-11-09T22:20:03.690839\", \"2020-11-09T22:20:03.894051\", \"2020-11-09T22:20:04.098554\", \"2020-11-09T22:20:04.303149\", \"2020-11-09T22:20:04.507796\"], \"y\": [0.0, 4.761904761904773, 33.33333333333334, 0.0, 19.04761904761905, 15.0, 23.80952380952381, 55.0, 63.15789473684211, 26.31578947368422, 19.04761904761905, 10.526315789473685, 20.0, 15.789473684210535, 10.0, 4.761904761904773, 4.761904761904773, 9.523809523809518]}, {\"name\": \"cpu2\", \"type\": \"scatter\", \"x\": [\"2020-11-09T22:20:01.051053\", \"2020-11-09T22:20:01.255674\", \"2020-11-09T22:20:01.460386\", \"2020-11-09T22:20:01.664942\", \"2020-11-09T22:20:01.868497\", \"2020-11-09T22:20:02.070885\", \"2020-11-09T22:20:02.273351\", \"2020-11-09T22:20:02.475738\", \"2020-11-09T22:20:02.678269\", \"2020-11-09T22:20:02.880776\", \"2020-11-09T22:20:03.083394\", \"2020-11-09T22:20:03.285908\", \"2020-11-09T22:20:03.488370\", \"2020-11-09T22:20:03.690839\", \"2020-11-09T22:20:03.894051\", \"2020-11-09T22:20:04.098554\", \"2020-11-09T22:20:04.303149\", \"2020-11-09T22:20:04.507796\"], \"y\": [9.090909090909093, 0.0, 0.0, 13.63636363636364, 30.0, 15.0, 20.0, 20.0, 55.0, 100.0, 100.0, 100.0, 100.0, 95.45454545454545, 60.0, 4.761904761904773, 0.0, 0.0]}, {\"name\": \"cpu3\", \"type\": \"scatter\", \"x\": [\"2020-11-09T22:20:01.051053\", \"2020-11-09T22:20:01.255674\", \"2020-11-09T22:20:01.460386\", \"2020-11-09T22:20:01.664942\", \"2020-11-09T22:20:01.868497\", \"2020-11-09T22:20:02.070885\", \"2020-11-09T22:20:02.273351\", \"2020-11-09T22:20:02.475738\", \"2020-11-09T22:20:02.678269\", \"2020-11-09T22:20:02.880776\", \"2020-11-09T22:20:03.083394\", \"2020-11-09T22:20:03.285908\", \"2020-11-09T22:20:03.488370\", \"2020-11-09T22:20:03.690839\", \"2020-11-09T22:20:03.894051\", \"2020-11-09T22:20:04.098554\", \"2020-11-09T22:20:04.303149\", \"2020-11-09T22:20:04.507796\"], \"y\": [17.391304347826093, 4.761904761904773, 5.26315789473685, 0.0, 18.181818181818173, 15.789473684210535, 19.04761904761905, 23.80952380952381, 20.0, 21.05263157894737, 15.0, 15.789473684210535, 15.0, 15.789473684210535, 15.0, 0.0, 5.0, 0.0]}],                        {\"template\": {\"data\": {\"bar\": [{\"error_x\": {\"color\": \"#2a3f5f\"}, \"error_y\": {\"color\": \"#2a3f5f\"}, \"marker\": {\"line\": {\"color\": \"#E5ECF6\", \"width\": 0.5}}, \"type\": \"bar\"}], \"barpolar\": [{\"marker\": {\"line\": {\"color\": \"#E5ECF6\", \"width\": 0.5}}, \"type\": \"barpolar\"}], \"carpet\": [{\"aaxis\": {\"endlinecolor\": \"#2a3f5f\", \"gridcolor\": \"white\", \"linecolor\": \"white\", \"minorgridcolor\": \"white\", \"startlinecolor\": \"#2a3f5f\"}, \"baxis\": {\"endlinecolor\": \"#2a3f5f\", \"gridcolor\": \"white\", \"linecolor\": \"white\", \"minorgridcolor\": \"white\", \"startlinecolor\": \"#2a3f5f\"}, \"type\": \"carpet\"}], \"choropleth\": [{\"colorbar\": {\"outlinewidth\": 0, \"ticks\": \"\"}, \"type\": \"choropleth\"}], \"contour\": [{\"colorbar\": {\"outlinewidth\": 0, \"ticks\": \"\"}, \"colorscale\": [[0.0, \"#0d0887\"], [0.1111111111111111, \"#46039f\"], [0.2222222222222222, \"#7201a8\"], [0.3333333333333333, \"#9c179e\"], [0.4444444444444444, \"#bd3786\"], [0.5555555555555556, \"#d8576b\"], [0.6666666666666666, \"#ed7953\"], [0.7777777777777778, \"#fb9f3a\"], [0.8888888888888888, \"#fdca26\"], [1.0, \"#f0f921\"]], \"type\": \"contour\"}], \"contourcarpet\": [{\"colorbar\": {\"outlinewidth\": 0, \"ticks\": \"\"}, \"type\": \"contourcarpet\"}], \"heatmap\": [{\"colorbar\": {\"outlinewidth\": 0, \"ticks\": \"\"}, \"colorscale\": [[0.0, \"#0d0887\"], [0.1111111111111111, \"#46039f\"], [0.2222222222222222, \"#7201a8\"], [0.3333333333333333, \"#9c179e\"], [0.4444444444444444, \"#bd3786\"], [0.5555555555555556, \"#d8576b\"], [0.6666666666666666, \"#ed7953\"], [0.7777777777777778, \"#fb9f3a\"], [0.8888888888888888, \"#fdca26\"], [1.0, \"#f0f921\"]], \"type\": \"heatmap\"}], \"heatmapgl\": [{\"colorbar\": {\"outlinewidth\": 0, \"ticks\": \"\"}, \"colorscale\": [[0.0, \"#0d0887\"], [0.1111111111111111, \"#46039f\"], [0.2222222222222222, \"#7201a8\"], [0.3333333333333333, \"#9c179e\"], [0.4444444444444444, \"#bd3786\"], [0.5555555555555556, \"#d8576b\"], [0.6666666666666666, \"#ed7953\"], [0.7777777777777778, \"#fb9f3a\"], [0.8888888888888888, \"#fdca26\"], [1.0, \"#f0f921\"]], \"type\": \"heatmapgl\"}], \"histogram\": [{\"marker\": {\"colorbar\": {\"outlinewidth\": 0, \"ticks\": \"\"}}, \"type\": \"histogram\"}], \"histogram2d\": [{\"colorbar\": {\"outlinewidth\": 0, \"ticks\": \"\"}, \"colorscale\": [[0.0, \"#0d0887\"], [0.1111111111111111, \"#46039f\"], [0.2222222222222222, \"#7201a8\"], [0.3333333333333333, \"#9c179e\"], [0.4444444444444444, \"#bd3786\"], [0.5555555555555556, \"#d8576b\"], [0.6666666666666666, \"#ed7953\"], [0.7777777777777778, \"#fb9f3a\"], [0.8888888888888888, \"#fdca26\"], [1.0, \"#f0f921\"]], \"type\": \"histogram2d\"}], \"histogram2dcontour\": [{\"colorbar\": {\"outlinewidth\": 0, \"ticks\": \"\"}, \"colorscale\": [[0.0, \"#0d0887\"], [0.1111111111111111, \"#46039f\"], [0.2222222222222222, \"#7201a8\"], [0.3333333333333333, \"#9c179e\"], [0.4444444444444444, \"#bd3786\"], [0.5555555555555556, \"#d8576b\"], [0.6666666666666666, \"#ed7953\"], [0.7777777777777778, \"#fb9f3a\"], [0.8888888888888888, \"#fdca26\"], [1.0, \"#f0f921\"]], \"type\": \"histogram2dcontour\"}], \"mesh3d\": [{\"colorbar\": {\"outlinewidth\": 0, \"ticks\": \"\"}, \"type\": \"mesh3d\"}], \"parcoords\": [{\"line\": {\"colorbar\": {\"outlinewidth\": 0, \"ticks\": \"\"}}, \"type\": \"parcoords\"}], \"pie\": [{\"automargin\": true, \"type\": \"pie\"}], \"scatter\": [{\"marker\": {\"colorbar\": {\"outlinewidth\": 0, \"ticks\": \"\"}}, \"type\": \"scatter\"}], \"scatter3d\": [{\"line\": {\"colorbar\": {\"outlinewidth\": 0, \"ticks\": \"\"}}, \"marker\": {\"colorbar\": {\"outlinewidth\": 0, \"ticks\": \"\"}}, \"type\": \"scatter3d\"}], \"scattercarpet\": [{\"marker\": {\"colorbar\": {\"outlinewidth\": 0, \"ticks\": \"\"}}, \"type\": \"scattercarpet\"}], \"scattergeo\": [{\"marker\": {\"colorbar\": {\"outlinewidth\": 0, \"ticks\": \"\"}}, \"type\": \"scattergeo\"}], \"scattergl\": [{\"marker\": {\"colorbar\": {\"outlinewidth\": 0, \"ticks\": \"\"}}, \"type\": \"scattergl\"}], \"scattermapbox\": [{\"marker\": {\"colorbar\": {\"outlinewidth\": 0, \"ticks\": \"\"}}, \"type\": \"scattermapbox\"}], \"scatterpolar\": [{\"marker\": {\"colorbar\": {\"outlinewidth\": 0, \"ticks\": \"\"}}, \"type\": \"scatterpolar\"}], \"scatterpolargl\": [{\"marker\": {\"colorbar\": {\"outlinewidth\": 0, \"ticks\": \"\"}}, \"type\": \"scatterpolargl\"}], \"scatterternary\": [{\"marker\": {\"colorbar\": {\"outlinewidth\": 0, \"ticks\": \"\"}}, \"type\": \"scatterternary\"}], \"surface\": [{\"colorbar\": {\"outlinewidth\": 0, \"ticks\": \"\"}, \"colorscale\": [[0.0, \"#0d0887\"], [0.1111111111111111, \"#46039f\"], [0.2222222222222222, \"#7201a8\"], [0.3333333333333333, \"#9c179e\"], [0.4444444444444444, \"#bd3786\"], [0.5555555555555556, \"#d8576b\"], [0.6666666666666666, \"#ed7953\"], [0.7777777777777778, \"#fb9f3a\"], [0.8888888888888888, \"#fdca26\"], [1.0, \"#f0f921\"]], \"type\": \"surface\"}], \"table\": [{\"cells\": {\"fill\": {\"color\": \"#EBF0F8\"}, \"line\": {\"color\": \"white\"}}, \"header\": {\"fill\": {\"color\": \"#C8D4E3\"}, \"line\": {\"color\": \"white\"}}, \"type\": \"table\"}]}, \"layout\": {\"annotationdefaults\": {\"arrowcolor\": \"#2a3f5f\", \"arrowhead\": 0, \"arrowwidth\": 1}, \"coloraxis\": {\"colorbar\": {\"outlinewidth\": 0, \"ticks\": \"\"}}, \"colorscale\": {\"diverging\": [[0, \"#8e0152\"], [0.1, \"#c51b7d\"], [0.2, \"#de77ae\"], [0.3, \"#f1b6da\"], [0.4, \"#fde0ef\"], [0.5, \"#f7f7f7\"], [0.6, \"#e6f5d0\"], [0.7, \"#b8e186\"], [0.8, \"#7fbc41\"], [0.9, \"#4d9221\"], [1, \"#276419\"]], \"sequential\": [[0.0, \"#0d0887\"], [0.1111111111111111, \"#46039f\"], [0.2222222222222222, \"#7201a8\"], [0.3333333333333333, \"#9c179e\"], [0.4444444444444444, \"#bd3786\"], [0.5555555555555556, \"#d8576b\"], [0.6666666666666666, \"#ed7953\"], [0.7777777777777778, \"#fb9f3a\"], [0.8888888888888888, \"#fdca26\"], [1.0, \"#f0f921\"]], \"sequentialminus\": [[0.0, \"#0d0887\"], [0.1111111111111111, \"#46039f\"], [0.2222222222222222, \"#7201a8\"], [0.3333333333333333, \"#9c179e\"], [0.4444444444444444, \"#bd3786\"], [0.5555555555555556, \"#d8576b\"], [0.6666666666666666, \"#ed7953\"], [0.7777777777777778, \"#fb9f3a\"], [0.8888888888888888, \"#fdca26\"], [1.0, \"#f0f921\"]]}, \"colorway\": [\"#636efa\", \"#EF553B\", \"#00cc96\", \"#ab63fa\", \"#FFA15A\", \"#19d3f3\", \"#FF6692\", \"#B6E880\", \"#FF97FF\", \"#FECB52\"], \"font\": {\"color\": \"#2a3f5f\"}, \"geo\": {\"bgcolor\": \"white\", \"lakecolor\": \"white\", \"landcolor\": \"#E5ECF6\", \"showlakes\": true, \"showland\": true, \"subunitcolor\": \"white\"}, \"hoverlabel\": {\"align\": \"left\"}, \"hovermode\": \"closest\", \"mapbox\": {\"style\": \"light\"}, \"paper_bgcolor\": \"white\", \"plot_bgcolor\": \"#E5ECF6\", \"polar\": {\"angularaxis\": {\"gridcolor\": \"white\", \"linecolor\": \"white\", \"ticks\": \"\"}, \"bgcolor\": \"#E5ECF6\", \"radialaxis\": {\"gridcolor\": \"white\", \"linecolor\": \"white\", \"ticks\": \"\"}}, \"scene\": {\"xaxis\": {\"backgroundcolor\": \"#E5ECF6\", \"gridcolor\": \"white\", \"gridwidth\": 2, \"linecolor\": \"white\", \"showbackground\": true, \"ticks\": \"\", \"zerolinecolor\": \"white\"}, \"yaxis\": {\"backgroundcolor\": \"#E5ECF6\", \"gridcolor\": \"white\", \"gridwidth\": 2, \"linecolor\": \"white\", \"showbackground\": true, \"ticks\": \"\", \"zerolinecolor\": \"white\"}, \"zaxis\": {\"backgroundcolor\": \"#E5ECF6\", \"gridcolor\": \"white\", \"gridwidth\": 2, \"linecolor\": \"white\", \"showbackground\": true, \"ticks\": \"\", \"zerolinecolor\": \"white\"}}, \"shapedefaults\": {\"line\": {\"color\": \"#2a3f5f\"}}, \"ternary\": {\"aaxis\": {\"gridcolor\": \"white\", \"linecolor\": \"white\", \"ticks\": \"\"}, \"baxis\": {\"gridcolor\": \"white\", \"linecolor\": \"white\", \"ticks\": \"\"}, \"bgcolor\": \"#E5ECF6\", \"caxis\": {\"gridcolor\": \"white\", \"linecolor\": \"white\", \"ticks\": \"\"}}, \"title\": {\"x\": 0.05}, \"xaxis\": {\"automargin\": true, \"gridcolor\": \"white\", \"linecolor\": \"white\", \"ticks\": \"\", \"title\": {\"standoff\": 15}, \"zerolinecolor\": \"white\", \"zerolinewidth\": 2}, \"yaxis\": {\"automargin\": true, \"gridcolor\": \"white\", \"linecolor\": \"white\", \"ticks\": \"\", \"title\": {\"standoff\": 15}, \"zerolinecolor\": \"white\", \"zerolinewidth\": 2}}}, \"title\": {\"text\": \"CPU load\"}, \"xaxis\": {\"title\": {\"text\": \"Time\"}}, \"yaxis\": {\"title\": {\"text\": \"%\"}}},                        {\"responsive\": true}                    ).then(function(){\n",
       "                            \n",
       "var gd = document.getElementById('64f9220c-2791-446a-8f67-f620f2aa16ce');\n",
       "var x = new MutationObserver(function (mutations, observer) {{\n",
       "        var display = window.getComputedStyle(gd).display;\n",
       "        if (!display || display === 'none') {{\n",
       "            console.log([gd, 'removed!']);\n",
       "            Plotly.purge(gd);\n",
       "            observer.disconnect();\n",
       "        }}\n",
       "}});\n",
       "\n",
       "// Listen for the removal of the full notebook cells\n",
       "var notebookContainer = gd.closest('#notebook-container');\n",
       "if (notebookContainer) {{\n",
       "    x.observe(notebookContainer, {childList: true});\n",
       "}}\n",
       "\n",
       "// Listen for the clearing of the current output cell\n",
       "var outputEl = gd.closest('.output');\n",
       "if (outputEl) {{\n",
       "    x.observe(outputEl, {childList: true});\n",
       "}}\n",
       "\n",
       "                        })                };                });            </script>        </div>"
      ]
     },
     "metadata": {},
     "output_type": "display_data"
    }
   ],
   "source": [
    "log_file = './cpu.log'\n",
    "\n",
    "with open(log_file) as fd:\n",
    "    lines = fd.readlines()\n",
    "\n",
    "load_headers = ['user', 'nice', 'sys', 'idle', 'iow', 'irq', 'sirq']\n",
    "headers = load_headers + ['time_value']\n",
    "cpu_load_dict = {}\n",
    "    \n",
    "cnt = 0\n",
    "while cnt < len(lines) - 6:\n",
    "    time = pd.to_datetime(lines[cnt])\n",
    "    cnt+=2\n",
    "    \n",
    "    for i in range(4):\n",
    "        cpu_num = f'cpu{i}'\n",
    "        if cpu_num not in cpu_load_dict:\n",
    "            cpu_load_dict[cpu_num] = dict(zip(headers, [list() for _ in headers]))\n",
    "        \n",
    "        splitted_line = lines[cnt].split()\n",
    "        cpu_load_dict[cpu_num]['user'].append(int(splitted_line[1]))\n",
    "        cpu_load_dict[cpu_num]['nice'].append(int(splitted_line[2]))\n",
    "        cpu_load_dict[cpu_num]['sys'].append(int(splitted_line[3]))\n",
    "        cpu_load_dict[cpu_num]['idle'].append(int(splitted_line[4]))\n",
    "        cpu_load_dict[cpu_num]['iow'].append(int(splitted_line[5]))\n",
    "        cpu_load_dict[cpu_num]['irq'].append(int(splitted_line[6]))\n",
    "        cpu_load_dict[cpu_num]['sirq'].append(int(splitted_line[7]))\n",
    "        cpu_load_dict[cpu_num]['time_value'].append(time)\n",
    "        cnt+=1\n",
    "\n",
    "df_dict = {}\n",
    "for key, val in cpu_load_dict.items():\n",
    "    per_cpu_df = pd.DataFrame(val)\n",
    "    \n",
    "    per_cpu_df[load_headers] = per_cpu_df[load_headers].diff()\n",
    "    per_cpu_df.dropna(inplace=True)\n",
    "    \n",
    "    per_cpu_df['sum'] = per_cpu_df[load_headers].sum(axis=1)\n",
    "    \n",
    "    per_cpu_df[load_headers] = per_cpu_df[load_headers].div(per_cpu_df['sum'], axis=0).mul(100)\n",
    "    \n",
    "    per_cpu_df['load'] = per_cpu_df['idle'].mul(-1).add(100)\n",
    "    \n",
    "    per_cpu_df.drop('sum', axis=1, inplace=True)\n",
    "    \n",
    "    df_dict[key] = per_cpu_df\n",
    "\n",
    "\n",
    "fig = go.Figure()\n",
    "for cpu, val in cpu_load_dict.items():\n",
    "    df = df_dict[cpu]\n",
    "    fig.add_trace(go.Scatter(x=df['time_value'], y=df['load'], name=cpu))\n",
    "\n",
    "fig.update_layout(\n",
    "#     width=800,\n",
    "#     height=800,\n",
    "    title='CPU load',\n",
    "    yaxis_title='%',\n",
    "    xaxis_title='Time'\n",
    ")\n",
    "\n",
    "fig.show()"
   ]
  }
 ],
 "metadata": {
  "kernelspec": {
   "display_name": "Python 3",
   "language": "python",
   "name": "python3"
  },
  "language_info": {
   "codemirror_mode": {
    "name": "ipython",
    "version": 3
   },
   "file_extension": ".py",
   "mimetype": "text/x-python",
   "name": "python",
   "nbconvert_exporter": "python",
   "pygments_lexer": "ipython3",
   "version": "3.6.9"
  }
 },
 "nbformat": 4,
 "nbformat_minor": 4
}
